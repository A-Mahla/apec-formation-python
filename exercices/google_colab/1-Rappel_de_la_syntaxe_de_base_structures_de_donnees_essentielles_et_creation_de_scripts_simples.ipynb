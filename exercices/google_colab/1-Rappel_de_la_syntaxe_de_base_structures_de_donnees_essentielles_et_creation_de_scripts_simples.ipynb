{
  "nbformat": 4,
  "nbformat_minor": 0,
  "metadata": {
    "colab": {
      "provenance": [],
      "collapsed_sections": [
        "oEsF3D8Fg8eO",
        "Ic98wsuohP0e",
        "NcxGa_JUiGo-",
        "s0ALLjo8i6zK",
        "-dqXByDpstQE",
        "eF1714iYs-2C",
        "19MTgUzLuN-v",
        "QJHMlN78vVY0",
        "ZXyDhKQYjcBL",
        "KHncO5tZjPst",
        "NL3nWv5HjyZY",
        "7Mk31oNSmR4d",
        "kidgMWhFmZdU",
        "eEQS5mqimkHn"
      ],
      "authorship_tag": "ABX9TyPuzfsbTrBkGAFgpG49c3BT",
      "include_colab_link": true
    },
    "kernelspec": {
      "name": "python3",
      "display_name": "Python 3"
    },
    "language_info": {
      "name": "python"
    }
  },
  "cells": [
    {
      "cell_type": "markdown",
      "metadata": {
        "id": "view-in-github",
        "colab_type": "text"
      },
      "source": [
        "<a href=\"https://colab.research.google.com/github/A-Mahla/serda-formation-python/blob/main/exercices/google_colab/Rappel_de_la_syntaxe_de_base%2C_structures_de_donn%C3%A9es_essentielles_et_cr%C3%A9ation_de_scripts_simples.ipynb\" target=\"_parent\"><img src=\"https://colab.research.google.com/assets/colab-badge.svg\" alt=\"Open In Colab\"/></a>"
      ]
    },
    {
      "cell_type": "markdown",
      "source": [
        "# Syntaxe de base, structures de données essentielles et création de scripts simples"
      ],
      "metadata": {
        "id": "rc8kNcMugxVi"
      }
    },
    {
      "cell_type": "markdown",
      "source": [
        "## Les Primitives"
      ],
      "metadata": {
        "id": "oEsF3D8Fg8eO"
      }
    },
    {
      "cell_type": "code",
      "execution_count": null,
      "metadata": {
        "id": "s_6NfDw-gsm6"
      },
      "outputs": [],
      "source": [
        "# Exemple de déclaration de variables et types de données\n",
        "a = 5       # Un entier (int)\n",
        "b = 5.0     # Un nombre à virgule flottante (float)\n",
        "c = \"Hello\" # Une chaîne de caractères (str)\n",
        "d = True    # Un booléen (bool)\n",
        "\n",
        "print(\"Types de données en Python:\")\n",
        "print(type(a), type(b), type(c), type(d))"
      ]
    },
    {
      "cell_type": "markdown",
      "source": [
        "## Opérations de base"
      ],
      "metadata": {
        "id": "Ic98wsuohP0e"
      }
    },
    {
      "cell_type": "code",
      "source": [
        "a = 10\n",
        "b = 4.0\n",
        "\n",
        "# Opérations arithmétiques\n",
        "somme = a + b\n",
        "difference = a - b\n",
        "produit = a * b\n",
        "quotient = a / b\n",
        "modulo = a % b\n",
        "\n",
        "print(\"Opérations arithmétiques:\")\n",
        "print(\"Somme:\", somme)\n",
        "print(\"Différence:\", difference)\n",
        "print(\"Produit:\", produit)\n",
        "print(\"Quotient:\", quotient)\n",
        "print(\"Modulo:\", modulo) # le reste de la division\n",
        "\n",
        "# Opérateurs logiques\n",
        "print(\"Opérateurs logiques:\")\n",
        "print(a > b)  # Plus grand que\n",
        "print(a <= b) # Moins ou égal\n",
        "print(a == b) # Égal à\n",
        "print(a != b) # Différent de"
      ],
      "metadata": {
        "id": "ttdQWMqDhVV2"
      },
      "execution_count": null,
      "outputs": []
    },
    {
      "cell_type": "markdown",
      "source": [
        "## Structures de contrôle"
      ],
      "metadata": {
        "id": "NcxGa_JUiGo-"
      }
    },
    {
      "cell_type": "code",
      "source": [
        "a = 3\n",
        "b = 9\n",
        "\n",
        "# Structures conditionnelles\n",
        "if a > b:\n",
        "    print(\"a est plus grand que b\")\n",
        "elif a < b:\n",
        "    print(\"a est moins grand que b\")\n",
        "else:\n",
        "    print(\"a est égal à b\")\n",
        "\n",
        "# Condition multiple\n",
        "\n",
        "if a > b and a < b:\n",
        "    print(\"a est strictement plus petit ou plus grand que b\")\n",
        "if a > b or a == b:\n",
        "    print(\"a est plus grand ou egal à b\")\n",
        "\n",
        "# Condition negative\n",
        "if not (a > b and a < b):\n",
        "    print(\"a est égal à b\")\n",
        "\n",
        "\n",
        "# Boucle for\n",
        "print(\"Boucle for avec range:\")\n",
        "for i in range(5):\n",
        "    print(i)\n",
        "\n",
        "# Boucle while\n",
        "count = 0\n",
        "print(\"Boucle while:\")\n",
        "while count < 5:\n",
        "    print(count)\n",
        "    count += 1\n",
        "\n",
        "while True: # Boucle infinie\n",
        "  break # sortir de la boucle"
      ],
      "metadata": {
        "id": "9-krIb1riQNf"
      },
      "execution_count": null,
      "outputs": []
    },
    {
      "cell_type": "markdown",
      "source": [],
      "metadata": {
        "id": "CQkMLTAhi3Ep"
      }
    },
    {
      "cell_type": "markdown",
      "source": [
        "## Structures de données"
      ],
      "metadata": {
        "id": "s0ALLjo8i6zK"
      }
    },
    {
      "cell_type": "code",
      "source": [
        "# Listes\n",
        "ma_liste = [1, 2, 3, 4, 5]\n",
        "print(\"Accès aux éléments de la liste:\", ma_liste[0])  # Accès au premier élément\n",
        "\n",
        "# Dictionnaires\n",
        "mon_dico = {\"nom\": \"Dupont\", \"prénom\": \"Jean\"}\n",
        "print(\"Accès aux éléments du dictionnaire:\", mon_dico[\"nom\"])  # Accès par clé"
      ],
      "metadata": {
        "id": "5vlJ7H6MjAcc"
      },
      "execution_count": null,
      "outputs": []
    },
    {
      "cell_type": "markdown",
      "source": [
        "### Manipulation de listes"
      ],
      "metadata": {
        "id": "-dqXByDpstQE"
      }
    },
    {
      "cell_type": "code",
      "source": [
        "# Création d'une liste\n",
        "fruits = [\"pomme\", \"banane\", \"cerise\"]\n",
        "print(\"Liste originale:\", fruits)\n",
        "\n",
        "# Accès aux éléments\n",
        "print(\"Premier fruit:\", fruits[0])\n",
        "print(\"Dernier fruit:\", fruits[-1])\n",
        "\n",
        "# Modification d'un élément\n",
        "fruits[1] = \"mangue\"\n",
        "print(\"Liste modifiée:\", fruits)\n",
        "\n",
        "# Ajouter un élément à la fin\n",
        "fruits.append(\"orange\")\n",
        "print(\"Après ajout:\", fruits)\n",
        "\n",
        "# Enlever un élément\n",
        "fruits.remove(\"cerise\")  # Supprime par valeur\n",
        "print(\"Après suppression:\", fruits)\n",
        "\n",
        "# Savoir si un élément est present dans la liste\n",
        "if \"cerise\" in fruits:\n",
        "    print(\"Élément 'cerise' est dans le liste 'fruits'\")"
      ],
      "metadata": {
        "id": "aulZ5jMqs6y8"
      },
      "execution_count": null,
      "outputs": []
    },
    {
      "cell_type": "markdown",
      "source": [
        "### Manipulation de dictionnaires"
      ],
      "metadata": {
        "id": "eF1714iYs-2C"
      }
    },
    {
      "cell_type": "code",
      "source": [
        "# Création d'un dictionnaire\n",
        "personne = {\"nom\": \"Durand\", \"prénom\": \"Marie\", \"age\": 30}\n",
        "print(\"Dictionnaire original:\", personne)\n",
        "\n",
        "# Accès aux valeurs par clé\n",
        "print(\"Nom:\", personne[\"nom\"])\n",
        "\n",
        "# Modification d'une valeur\n",
        "personne[\"age\"] = 31\n",
        "print(\"Age modifié:\", personne[\"age\"])\n",
        "\n",
        "# Ajout d'une nouvelle paire clé-valeur\n",
        "personne[\"profession\"] = \"Ingénieure\"\n",
        "print(\"Après ajout:\", personne)\n",
        "\n",
        "# Accès à toutes les clés et valeurs\n",
        "print(\"Clés:\", personne.keys())\n",
        "print(\"Valeurs:\", personne.values())\n",
        "\n",
        "# Suppression d'une paire clé-valeur\n",
        "del personne[\"age\"]\n",
        "print(\"Après suppression de l'âge:\", personne)\n",
        "\n",
        "# Savoir si une clef est presente dans un dictionnaire.\n",
        "if \"age\" in personne.keys(): # personne.keys() return une liste\n",
        "    print(\"La clef 'age' est dans le dictionnaire 'personne'\")\n",
        "else:\n",
        "  print(\"La clef 'age' n'est pas dans le dictionnaire 'personne'\")\n",
        "\n",
        "# Savoir si une valeur est presente dans un dictionnaire.\n",
        "if \"Durand\" in personne.values(): # personne.values() return une liste\n",
        "    print(\"La valeur 'Durand' est dans le dictionnaire 'personne'\")"
      ],
      "metadata": {
        "id": "XBrmjrc5tUgN"
      },
      "execution_count": null,
      "outputs": []
    },
    {
      "cell_type": "markdown",
      "source": [
        "### Création de listes avec des \"List Comprehension\""
      ],
      "metadata": {
        "id": "19MTgUzLuN-v"
      }
    },
    {
      "cell_type": "markdown",
      "source": [
        "Les \"List Comprehension\" sont une manière élégante de construire des listes. Elles permettent de remplacer plusieurs lignes de boucles et de conditions par une seule ligne de code claire et concise."
      ],
      "metadata": {
        "id": "8XDVwfDmujro"
      }
    },
    {
      "cell_type": "markdown",
      "source": [
        "- **Syntaxe de base:**\n",
        "```python\n",
        "[nouvel_element for element in iterable]\n",
        "```\n",
        "- **Avec condition:**\n",
        "```python\n",
        "[nouvel_element for element in iterable if condition]\n",
        "```\n",
        "- **Exemples pratiques:**"
      ],
      "metadata": {
        "id": "2KlDEJIaurEm"
      }
    },
    {
      "cell_type": "code",
      "source": [
        "# Création d'une liste de carrés des nombres de 0 à 9\n",
        "carrés = [x**2 for x in range(10)]\n",
        "print(\"Carrés des nombres de 0 à 9:\", carrés)\n",
        "\n",
        "\n",
        "# Création d'une liste de nombres pairs en utilisant une condition\n",
        "nombres_pairs = [x for x in range(10) if x % 2 == 0]\n",
        "print(\"Nombres pairs de 0 à 9:\", nombres_pairs)\n",
        "\n",
        "\n",
        "# Création d'une liste de mots filtrés par longueur\n",
        "mots = [\"pomme\", \"banane\", \"cerise\", \"kiwi\", \"mangue\"]\n",
        "mots_courts = [mot for mot in mots if len(mot) <= 5]\n",
        "print(\"Mots de 5 lettres ou moins:\", mots_courts)"
      ],
      "metadata": {
        "id": "GjyzHZhJvNgt"
      },
      "execution_count": null,
      "outputs": []
    },
    {
      "cell_type": "markdown",
      "source": [
        "## Exercices: Liste et Dictionnaires"
      ],
      "metadata": {
        "id": "QJHMlN78vVY0"
      }
    },
    {
      "cell_type": "markdown",
      "source": [
        "Exercice 1:\n",
        "\n",
        "Écrivez un script qui prend une liste de nombres:\n",
        "1. Supprime tous les éléments qui sont multiples de 5,\n",
        "2. Ajoute à la fin de la liste le carré de tous les nombres initialement présents."
      ],
      "metadata": {
        "id": "hDetgarn2lqj"
      }
    },
    {
      "cell_type": "code",
      "source": [
        "# Liste initiale de nombres\n",
        "nombres = [1, 5, 10, 22, 35, 49]\n",
        "\n",
        "# Your code ...\n",
        "\n",
        "\n"
      ],
      "metadata": {
        "id": "WQgcSGrL2lqm"
      },
      "execution_count": null,
      "outputs": []
    },
    {
      "cell_type": "markdown",
      "source": [
        "Exercice 2:\n",
        "\n",
        "Créez un dictionnaire représentant une bibliothèque de livres. **Chaque livre est identifié par son titre et contient un dictionnaire d'informations contenant l'auteur et l'année de publication.** Le script doit permettre de :\n",
        "- Ajouter un nouveau livre,\n",
        "- Supprimer un livre par son titre,\n",
        "- Afficher tous les livres d'un auteur spécifique."
      ],
      "metadata": {
        "id": "rihrS-c31Rjl"
      }
    },
    {
      "cell_type": "code",
      "source": [
        "# Your code ...\n",
        "\n",
        "\n"
      ],
      "metadata": {
        "id": "sL8sJSaL1Rjm"
      },
      "execution_count": null,
      "outputs": []
    },
    {
      "cell_type": "markdown",
      "source": [
        "Exercice 3:\n",
        "\n",
        "Écrivez une compréhension de liste pour créer une liste des premières lettres de chaque mot dans une liste de mots donnée, mais seulement pour les mots qui ont plus de 4 lettres."
      ],
      "metadata": {
        "id": "NzD5puYYvgaF"
      }
    },
    {
      "cell_type": "code",
      "source": [
        "# Liste de mots\n",
        "mots = [\"table\", \"chaise\", \"fenêtre\", \"porte\", \"lit\"]\n",
        "\n",
        "# Your code ...\n",
        "\n"
      ],
      "metadata": {
        "id": "NReAC5xvvlKj"
      },
      "execution_count": null,
      "outputs": []
    },
    {
      "cell_type": "markdown",
      "source": [
        "Exercice 4:\n",
        "\n",
        "Vous êtes en charge de créer un script pour analyser une liste de dictionnaires contenant des informations sur différents films. Chaque dictionnaire contient les clés titre, année, genres (une liste de genres) et note. Votre tâche est de filtrer et transformer ces données en utilisant des compréhensions de liste pour répondre à des requêtes spécifiques."
      ],
      "metadata": {
        "id": "hM9u2KHbv_Dj"
      }
    },
    {
      "cell_type": "code",
      "source": [
        "films = [\n",
        "    {\"titre\": \"Inception\", \"année\": 2010, \"genres\": [\"Action\", \"Aventure\", \"Science-Fiction\"], \"note\": 8.8},\n",
        "    {\"titre\": \"The Matrix\", \"année\": 1999, \"genres\": [\"Action\", \"Science-Fiction\"], \"note\": 8.7},\n",
        "    {\"titre\": \"Avengers: Infinity War\", \"année\": 2018, \"genres\": [\"Action\", \"Aventure\", \"Fantaisie\"], \"note\": 8.5},\n",
        "    {\"titre\": \"Amélie\", \"année\": 2001, \"genres\": [\"Comédie\", \"Romance\"], \"note\": 8.3},\n",
        "    {\"titre\": \"Toy Story 4\", \"année\": 2019, \"genres\": [\"Animation\", \"Aventure\", \"Famille\"], \"note\": 7.8},\n",
        "    {\"titre\": \"Oldboy\", \"année\": 2003, \"genres\": [\"Action\", \"Drame\", \"Mystère\"], \"note\": 8.4},\n",
        "    {\"titre\": \"The Grand Budapest Hotel\", \"année\": 2014, \"genres\": [\"Comédie\", \"Drame\"], \"note\": 8.1}\n",
        "]\n",
        "\n",
        "# 1. Filtrer les films sortis après 2000 et ayant une note supérieure à 8.0.\n",
        "\n",
        "\n",
        "# 2. Extraire les titres des films qui contiennent le genre 'Action'.\n",
        "\n",
        "\n",
        "# 3. Créer une liste des genres uniques présents dans la liste des films.\n",
        "\n",
        "\n",
        "# 4. Trouver tous les films sortis entre 1990 et 2010.\n",
        "\n",
        "\n"
      ],
      "metadata": {
        "id": "nMPu_Y1Bv_Dn"
      },
      "execution_count": null,
      "outputs": []
    },
    {
      "cell_type": "markdown",
      "source": [
        "## Fonctions et script complet"
      ],
      "metadata": {
        "id": "ZXyDhKQYjcBL"
      }
    },
    {
      "cell_type": "code",
      "source": [
        "# Définition de fonction\n",
        "def calculer_moyenne(liste):\n",
        "    return sum(liste) / len(liste)\n",
        "\n",
        "# Utilisation de la fonction\n",
        "notes = [12, 15, 18, 14, 13]\n",
        "print(\"Moyenne des notes:\", calculer_moyenne(notes))\n",
        "\n",
        "# Script qui demande à l'utilisateur des nombres et affiche la moyenne, max et min\n",
        "print(\"Entrez une liste de nombres séparés par des virgules:\")\n",
        "entree_utilisateur = input()\n",
        "liste_nombres = [float(x.strip()) for x in entree_utilisateur.split(',')]\n",
        "print(\"Moyenne:\", calculer_moyenne(liste_nombres))\n",
        "print(\"Maximum:\", max(liste_nombres))\n",
        "print(\"Minimum:\", min(liste_nombres))"
      ],
      "metadata": {
        "id": "p3NQRKqujkwi"
      },
      "execution_count": null,
      "outputs": []
    },
    {
      "cell_type": "markdown",
      "source": [
        "## Utilisation de `input()` pour recueillir des entrées utilisateur"
      ],
      "metadata": {
        "id": "KHncO5tZjPst"
      }
    },
    {
      "cell_type": "code",
      "source": [
        "# Demander à l'utilisateur de saisir son nom\n",
        "nom = input(\"Entrez votre nom: \")\n",
        "print(\"Bonjour,\", nom + \"!\")\n",
        "\n",
        "# Exemple de script demandant plusieurs types de données\n",
        "print(\"Veuillez entrer votre âge et votre taille.\")\n",
        "age = int(input(\"Âge (en années): \"))  # Convertit l'entrée en un entier\n",
        "taille = float(input(\"Taille (en mètres): \"))  # Convertit l'entrée en un nombre à virgule flottante\n",
        "\n",
        "print(f\"Vous avez {age} ans et mesurez {taille} mètres.\")"
      ],
      "metadata": {
        "id": "Y7DKmQQDjcOm"
      },
      "execution_count": null,
      "outputs": []
    },
    {
      "cell_type": "markdown",
      "source": [
        "## Exercices: Fonctions et Script"
      ],
      "metadata": {
        "id": "NL3nWv5HjyZY"
      }
    },
    {
      "cell_type": "markdown",
      "source": [
        "### Exercice 1:\n",
        "Écrire une fonction qui renvoie le nombre de mots dans une chaîne de caractères."
      ],
      "metadata": {
        "id": "7Mk31oNSmR4d"
      }
    },
    {
      "cell_type": "code",
      "source": [
        "# Exercice 1: Écrire une fonction qui renvoie le nombre de mots dans une chaîne de caractères.\n",
        "\n",
        "########## Code ###########\n",
        "\n",
        "\n",
        "\n",
        "###########################\n"
      ],
      "metadata": {
        "id": "EnKtgKIBj2YG"
      },
      "execution_count": null,
      "outputs": []
    },
    {
      "cell_type": "markdown",
      "source": [
        "### Exercice 2:\n",
        "Écrire un script qui demande à l'utilisateur d'entrer plusieurs mots séparés par des virgules, et qui affiche ces mots triés par ordre alphabétique et par longueur."
      ],
      "metadata": {
        "id": "kidgMWhFmZdU"
      }
    },
    {
      "cell_type": "code",
      "source": [
        "\n",
        "# Exercice 2: Écrire un script qui demande à l'utilisateur d'entrer plusieurs mots séparés par des virgules,\n",
        "#             et qui affiche ces mots triés par ordre alphabétique et par longueur.\n",
        "\n",
        "########## Code ###########\n",
        "\n",
        "\n",
        "\n",
        "###########################\n"
      ],
      "metadata": {
        "id": "uQnUSFuCkEOh"
      },
      "execution_count": null,
      "outputs": []
    },
    {
      "cell_type": "markdown",
      "source": [
        "### Exercice 3\n",
        "\n",
        "Problème: Simulation d'un distributeur automatique\n",
        "\n",
        "- **Description:**\n",
        "  - Écrire un script qui simule un distributeur automatique. Le distributeur contient différents snacks avec des quantités limitées et des prix variés. L'utilisateur peut acheter des snacks jusqu'à ce qu'il décide de quitter ou que le distributeur soit vide.\n",
        "- **Requis:**\n",
        "  - Le distributeur doit afficher les options disponibles (nom du snack, prix, et quantité disponible).\n",
        "  - L'utilisateur peut sélectionner un snack et entrer une quantité.\n",
        "  - Le script doit vérifier si la quantité demandée est disponible et si l'utilisateur a inséré assez d'argent pour l'achat.\n",
        "  - Après chaque achat, mettre à jour la quantité de snack disponible.\n",
        "  - L'utilisateur peut continuer d'acheter d'autres snacks ou quitter."
      ],
      "metadata": {
        "id": "eEQS5mqimkHn"
      }
    },
    {
      "cell_type": "code",
      "source": [
        "# le distributeur\n",
        "snacks = {\n",
        "    \"Chips\": {\"prix\": 1.50, \"quantité\": 10},\n",
        "    \"Chocolat\": {\"prix\": 2.00, \"quantité\": 5},\n",
        "    \"Bonbons\": {\"prix\": 0.75, \"quantité\": 20},\n",
        "}\n",
        "\n",
        "# Début du script\n",
        "print(\"Bienvenue dans notre distributeur automatique!\")\n",
        "\n",
        "########## Code ###########\n",
        "\n",
        "\n",
        "\n",
        "###########################"
      ],
      "metadata": {
        "id": "F5H4PfBCnrcH"
      },
      "execution_count": null,
      "outputs": []
    }
  ]
}