{
  "nbformat": 4,
  "nbformat_minor": 0,
  "metadata": {
    "colab": {
      "provenance": [],
      "collapsed_sections": [
        "Gene-OhOBrn-",
        "_GfHN5l3IvJN",
        "h-W2DWIrZsK3",
        "9WyTEreKacz0",
        "ozBkjTpYcemU",
        "L-yp6e16bgY1",
        "En6UmrCLcHt1",
        "V_yBl1pp_QxM",
        "7xKyoNcGACar",
        "Hk_gCRnS35JH",
        "ufQkGWGyCOMN",
        "wm96d8ezCW0V",
        "mavMXfpNCh4j",
        "8ouZ8_NTUJe6",
        "bKRqHvXBaQ0Z",
        "Mco2GhJ3b3ry",
        "pmmFZjWveGz-",
        "N_8k1Km_e3oM",
        "CysCjCPLfFiF"
      ],
      "authorship_tag": "ABX9TyMxq7CmtvgcmX8pob0YUZV/",
      "include_colab_link": true
    },
    "kernelspec": {
      "name": "python3",
      "display_name": "Python 3"
    },
    "language_info": {
      "name": "python"
    }
  },
  "cells": [
    {
      "cell_type": "markdown",
      "metadata": {
        "id": "view-in-github",
        "colab_type": "text"
      },
      "source": [
        "<a href=\"https://colab.research.google.com/github/A-Mahla/serda-formation-python/blob/main/exercices/google_colab/Introduction_aux_graphiques_avec_Matplotlib_et_Seaborn.ipynb\" target=\"_parent\"><img src=\"https://colab.research.google.com/assets/colab-badge.svg\" alt=\"Open In Colab\"/></a>"
      ]
    },
    {
      "cell_type": "markdown",
      "source": [
        "# Introduction aux graphiques avec Matplotlib et Seaborn"
      ],
      "metadata": {
        "id": "mLj2ycIeBnmK"
      }
    },
    {
      "cell_type": "markdown",
      "source": [
        "Dans cette section, nous allons apprendre les bases de la visualisation de données avec Matplotlib et Seaborn. Ces bibliothèques sont essentielles pour représenter graphiquement les données manipulées avec Pandas."
      ],
      "metadata": {
        "id": "Zw4xRhLABlbX"
      }
    },
    {
      "cell_type": "markdown",
      "source": [
        "## 1. Afficher un graphique avec Matplotlib"
      ],
      "metadata": {
        "id": "Gene-OhOBrn-"
      }
    },
    {
      "cell_type": "code",
      "source": [
        "import matplotlib.pyplot as plt\n",
        "\n",
        "# Créer des données simples\n",
        "x = [1, 2, 3, 4, 5]\n",
        "y = [10, 20, 25, 30, 40]\n",
        "\n",
        "# Créer un graphique\n",
        "plt.plot(x, y)\n",
        "plt.xlabel('X')\n",
        "plt.ylabel('Y')\n",
        "plt.title('Graphique simple')\n",
        "plt.show()"
      ],
      "metadata": {
        "id": "5lMoPYx0CF9Z"
      },
      "execution_count": null,
      "outputs": []
    },
    {
      "cell_type": "markdown",
      "source": [
        "## 2. Sauvegarder un graphique dans un *fichier*"
      ],
      "metadata": {
        "id": "_GfHN5l3IvJN"
      }
    },
    {
      "cell_type": "markdown",
      "source": [
        "Vous pouvez sauvegarder un graphique en utilisant la méthode savefig de Matplotlib."
      ],
      "metadata": {
        "id": "-I7f6OcDJVt0"
      }
    },
    {
      "cell_type": "code",
      "source": [
        "# Créer des données\n",
        "x = [1, 2, 3, 4, 5]\n",
        "y = [10, 20, 25, 30, 40]\n",
        "\n",
        "# Créer un graphique\n",
        "plt.plot(x, y)\n",
        "plt.xlabel('X')\n",
        "plt.ylabel('Y')\n",
        "plt.title('Graphique à sauvegarder')\n",
        "\n",
        "# Sauvegarder le graphique\n",
        "plt.savefig('graphique.png')\n",
        "plt.show()"
      ],
      "metadata": {
        "id": "M6rtAG_rJcm3"
      },
      "execution_count": null,
      "outputs": []
    },
    {
      "cell_type": "markdown",
      "source": [
        "## 3. Utilisation de Seaborn pour des graphiques avancés"
      ],
      "metadata": {
        "id": "h-W2DWIrZsK3"
      }
    },
    {
      "cell_type": "markdown",
      "source": [
        "[Seaborn](https://seaborn.pydata.org/tutorial.html) est une bibliothèque basée sur Matplotlib, qui fournit une interface de haut niveau pour dessiner des graphiques statistiques attractifs."
      ],
      "metadata": {
        "id": "2xSHoNQPaWxK"
      }
    },
    {
      "cell_type": "code",
      "source": [
        "import pandas as pd\n",
        "import numpy as np\n",
        "\n",
        "# Data setup\n",
        "names = ['Amina', 'Bruno', 'Chandra', 'Diego', 'Fatima', 'Elias', 'Gabriela', 'Hiro', 'Isha', 'Julia',\n",
        "         'Karl', 'Luna', 'Amina', 'Nadia', 'Olivia', 'Pierre', 'Qi', 'Raj', 'Sofia', 'Tomas']\n",
        "\n",
        "ages = np.random.randint(20, 61, size=20)\n",
        "salaries = np.random.randint(40000, 120001, size=20)\n",
        "\n",
        "# Create the DataFrame\n",
        "data = {\n",
        "    'Nom': names,\n",
        "    'Age': ages,\n",
        "    'Salaire': salaries\n",
        "}\n",
        "df = pd.DataFrame(data)"
      ],
      "metadata": {
        "id": "R77pT_rKbXKe"
      },
      "execution_count": null,
      "outputs": []
    },
    {
      "cell_type": "markdown",
      "source": [
        "### Diagramme à barres"
      ],
      "metadata": {
        "id": "9WyTEreKacz0"
      }
    },
    {
      "cell_type": "code",
      "source": [
        "plt.figure(figsize=(15, 5))\n",
        "sns.barplot(x='Nom', y='Salaire', data=df)\n",
        "plt.xlabel('Nom')\n",
        "plt.ylabel('Salaire')\n",
        "plt.title('Salaire par Nom')\n",
        "plt.show()"
      ],
      "metadata": {
        "id": "5VkWG6ikbaZ1"
      },
      "execution_count": null,
      "outputs": []
    },
    {
      "cell_type": "markdown",
      "source": [
        "### Boxplot"
      ],
      "metadata": {
        "id": "ozBkjTpYcemU"
      }
    },
    {
      "cell_type": "code",
      "source": [
        "df_box = pd.DataFrame({\n",
        "    'Metier': ['Ingénieur', 'Médecin', 'Enseignant', 'Artiste', 'Ingénieur', 'Médecin', 'Enseignant', 'Artiste'],\n",
        "    'Salaire': [50000, 120000, 40000, 40000, 90000, 75000, 81000, 120000]\n",
        "})\n",
        "\n",
        "plt.figure(figsize=(15, 5))\n",
        "sns.boxplot(x='Metier', y='Salaire', data=df_box)\n",
        "plt.xlabel('Metier')\n",
        "plt.ylabel('Salaire')\n",
        "plt.title('Salaire par Metier')\n",
        "plt.show()"
      ],
      "metadata": {
        "id": "NpQ8xEGnciAT"
      },
      "execution_count": null,
      "outputs": []
    },
    {
      "cell_type": "markdown",
      "source": [
        "### Histogramme :"
      ],
      "metadata": {
        "id": "L-yp6e16bgY1"
      }
    },
    {
      "cell_type": "code",
      "source": [
        "sns.histplot(df['Age'], kde=True)\n",
        "plt.xlabel('Age')\n",
        "plt.title('Distribution des Âges')\n",
        "plt.show()"
      ],
      "metadata": {
        "id": "6oVu4qjHbjYZ"
      },
      "execution_count": null,
      "outputs": []
    },
    {
      "cell_type": "markdown",
      "source": [
        "### Graphique en cercle (Pie Chart) :"
      ],
      "metadata": {
        "id": "En6UmrCLcHt1"
      }
    },
    {
      "cell_type": "code",
      "source": [
        "# Créer un graphique en cercle\n",
        "data = df['Nom'].value_counts()\n",
        "plt.figure(figsize=(8, 6))\n",
        "plt.pie(data, labels=data.index, autopct='%1.1f%%', startangle=140)\n",
        "plt.title('Répartition des Noms')\n",
        "plt.show()"
      ],
      "metadata": {
        "id": "YI0SeyMjczo8"
      },
      "execution_count": null,
      "outputs": []
    },
    {
      "cell_type": "markdown",
      "source": [
        "### Scatter Plot (Graphique de dispersion) :"
      ],
      "metadata": {
        "id": "V_yBl1pp_QxM"
      }
    },
    {
      "cell_type": "code",
      "source": [
        "sns.scatterplot(x='Age', y='Salaire', data=df)\n",
        "plt.xlabel('Age')\n",
        "plt.ylabel('Salaire')\n",
        "plt.title('Âge vs Salaire')\n",
        "plt.show()"
      ],
      "metadata": {
        "id": "lfXfYYaN_ktQ"
      },
      "execution_count": null,
      "outputs": []
    },
    {
      "cell_type": "markdown",
      "source": [
        "### Scatter Plot (Graphique de dispersion) avec hue :"
      ],
      "metadata": {
        "id": "7xKyoNcGACar"
      }
    },
    {
      "cell_type": "code",
      "source": [
        "sns.scatterplot(x='Age', y='Salaire', hue=\"Nom\", data=df)\n",
        "plt.legend(loc='center left', bbox_to_anchor=(1, 0.5))  # Custom legend position\n",
        "plt.xlabel('Age')\n",
        "plt.ylabel('Salaire')\n",
        "plt.title('Âge vs Salaire')\n",
        "plt.show()"
      ],
      "metadata": {
        "id": "bCdvNkS1ACav"
      },
      "execution_count": null,
      "outputs": []
    },
    {
      "cell_type": "markdown",
      "source": [
        "### Matrice de dispersion (Pairplot) :"
      ],
      "metadata": {
        "id": "Hk_gCRnS35JH"
      }
    },
    {
      "cell_type": "code",
      "source": [
        "sns.pairplot(df)\n",
        "plt.suptitle('Matrice de dispersion')\n",
        "plt.show()"
      ],
      "metadata": {
        "id": "yJW4ThMj4JWI"
      },
      "execution_count": null,
      "outputs": []
    },
    {
      "cell_type": "markdown",
      "source": [
        "> *And much [more](https://seaborn.pydata.org/examples/index.html) ...*"
      ],
      "metadata": {
        "id": "lb__f9bhBopn"
      }
    },
    {
      "cell_type": "markdown",
      "source": [
        "## 4. Découper la fenêtre en plusieurs graphiques"
      ],
      "metadata": {
        "id": "ufQkGWGyCOMN"
      }
    },
    {
      "cell_type": "markdown",
      "source": [
        "Matplotlib permet de créer plusieurs sous-graphiques dans une même fenêtre en utilisant `subplot()`."
      ],
      "metadata": {
        "id": "0p5uO9UeCRyW"
      }
    },
    {
      "cell_type": "markdown",
      "source": [
        "### 4.1 Utiliser subplot pour découper la fenêtre"
      ],
      "metadata": {
        "id": "wm96d8ezCW0V"
      }
    },
    {
      "cell_type": "code",
      "source": [
        "# Créer des données\n",
        "x = [1, 2, 3, 4, 5]\n",
        "y1 = [10, 20, 25, 30, 40]\n",
        "y2 = [5, 15, 20, 25, 35]\n",
        "\n",
        "# Créer la figure et les sous-graphiques\n",
        "fig, axs = plt.subplots(1, 2, figsize=(10, 5))\n",
        "\n",
        "# Premier graphique\n",
        "axs[0].plot(x, y1, label='y1')\n",
        "axs[0].set_title('Graphique 1')\n",
        "axs[0].set_xlabel('X')\n",
        "axs[0].set_ylabel('Y1')\n",
        "axs[0].legend()\n",
        "\n",
        "# Deuxième graphique\n",
        "axs[1].plot(x, y2, label='y2', color='r')\n",
        "axs[1].set_title('Graphique 2')\n",
        "axs[1].set_xlabel('X')\n",
        "axs[1].set_ylabel('Y2')\n",
        "axs[1].legend()\n",
        "\n",
        "plt.tight_layout()\n",
        "plt.show()"
      ],
      "metadata": {
        "id": "f3BoxHSOCaYY"
      },
      "execution_count": null,
      "outputs": []
    },
    {
      "cell_type": "markdown",
      "source": [
        "### 4.2 Utiliser un subplot2grid pour un affiche graphique plus complexe"
      ],
      "metadata": {
        "id": "mavMXfpNCh4j"
      }
    },
    {
      "cell_type": "markdown",
      "source": [
        "Parfois, vous voudrez peut-être qu'un graphique occupe plus d'espace dans la grille des sous-graphiques. Voici comment le faire."
      ],
      "metadata": {
        "id": "c2JdASdfI9dG"
      }
    },
    {
      "cell_type": "code",
      "source": [
        "# Créer des données\n",
        "x = [1, 2, 3, 4, 5]\n",
        "y1 = [10, 20, 25, 30, 40]\n",
        "y2 = [5, 15, 20, 25, 35]\n",
        "y3 = [15, 18, 20, 22, 30]\n",
        "\n",
        "# Create a figure\n",
        "fig = plt.figure(figsize=(10, 8))\n",
        "\n",
        "# Premier graphique\n",
        "ax1 = plt.subplot2grid((2, 2), (0, 0))\n",
        "ax1.plot(x, y1, label='y1') # or \"sns.lineplot(x='x', y='y1', data=df, ax=ax1)\" pour utiliser seaborn à la place\n",
        "ax1.set_title('Graphique 1')\n",
        "ax1.set_xlabel('X')\n",
        "ax1.set_ylabel('Y1')\n",
        "ax1.legend()\n",
        "\n",
        "# Deuxième graphique\n",
        "ax2 = plt.subplot2grid((2, 2), (0, 1))\n",
        "ax2.plot(x, y2, label='y2')\n",
        "ax2.set_title('Graphique 2')\n",
        "ax2.set_xlabel('X')\n",
        "ax2.set_ylabel('Y2')\n",
        "ax2.legend()\n",
        "\n",
        "# Troisième graphique sur deux subplots\n",
        "ax3 = plt.subplot2grid((2, 2), (1, 0), colspan=2)\n",
        "ax3.plot(x, y3, label='y3')\n",
        "ax3.set_title('Graphique 3')\n",
        "ax3.set_xlabel('X')\n",
        "ax3.set_ylabel('Y3')\n",
        "ax3.legend()\n",
        "\n",
        "plt.tight_layout()\n",
        "plt.show()\n"
      ],
      "metadata": {
        "id": "b7y0ceHZC3fS"
      },
      "execution_count": null,
      "outputs": []
    },
    {
      "cell_type": "markdown",
      "source": [
        "## Exercice: Graphique"
      ],
      "metadata": {
        "id": "8ouZ8_NTUJe6"
      }
    },
    {
      "cell_type": "markdown",
      "source": [
        "Pour ces exercices, nous allons utiliser la liste des chansons les plus célèbres de 2023, telles que répertoriées sur Spotify. Pour ce faire, veuillez exécuter le code ci-dessous et examiner de la même façon le jeu de données..."
      ],
      "metadata": {
        "id": "gkwBaB83UV8z"
      }
    },
    {
      "cell_type": "code",
      "source": [
        "import pandas as pd\n",
        "import matplotlib.pyplot as plt\n",
        "import seaborn as sns\n",
        "\n",
        "# Charger les données\n",
        "url = 'https://raw.githubusercontent.com/A-Mahla/serda-formation-python/main/datasets/Sleep_health_and_lifestyle_dataset.csv'\n",
        "dataset = pd.read_csv(url)\n",
        "\n",
        "print(dataset.head())\n",
        "print(dataset.info())"
      ],
      "metadata": {
        "id": "AwC22DJkVGyk"
      },
      "execution_count": null,
      "outputs": []
    },
    {
      "cell_type": "markdown",
      "source": [
        "### Exercice 1:  Visualisation Basique\n",
        "\n",
        "Objectif : Créer un histogramme pour analyser la distribution des âges."
      ],
      "metadata": {
        "id": "1bQGGJjQWho0"
      }
    },
    {
      "cell_type": "code",
      "source": [
        "# Your code ..."
      ],
      "metadata": {
        "id": "pHLzzZIoWWpM"
      },
      "execution_count": null,
      "outputs": []
    },
    {
      "cell_type": "markdown",
      "source": [
        "### Exercice 2:  Analyse de Tendance\n",
        "\n",
        "Objectif : Examiner la relation entre l'âge et le nombre de pas quotidiens."
      ],
      "metadata": {
        "id": "bKRqHvXBaQ0Z"
      }
    },
    {
      "cell_type": "code",
      "source": [
        "# Your code ..."
      ],
      "metadata": {
        "id": "cvCbyFkPaQ0a"
      },
      "execution_count": null,
      "outputs": []
    },
    {
      "cell_type": "markdown",
      "source": [
        "### Exercice 3:  Comparaison de Groupes\n",
        "\n",
        "Objectif : Comparer les heures de sommeil entre les hommes et les femmes."
      ],
      "metadata": {
        "id": "Mco2GhJ3b3ry"
      }
    },
    {
      "cell_type": "code",
      "source": [
        "# Your code ..."
      ],
      "metadata": {
        "id": "fIn9iqGLb3r4"
      },
      "execution_count": null,
      "outputs": []
    },
    {
      "cell_type": "markdown",
      "source": [
        "### Exercice 4: Visualisation Multivariable\n",
        "\n",
        "Objectif : Explorer les relations multiples dans un seul graphique avec un pairplot."
      ],
      "metadata": {
        "id": "pmmFZjWveGz-"
      }
    },
    {
      "cell_type": "code",
      "source": [
        "# Your code ..."
      ],
      "metadata": {
        "id": "UdIDrM9TeG0B"
      },
      "execution_count": null,
      "outputs": []
    },
    {
      "cell_type": "markdown",
      "source": [
        "### Exercice 5: Visualisation des Distributions Catégorielles\n",
        "\n",
        "Objectif : Visualiser la répartition des niveaux de stress parmi les individus"
      ],
      "metadata": {
        "id": "N_8k1Km_e3oM"
      }
    },
    {
      "cell_type": "code",
      "source": [
        "# your code ..."
      ],
      "metadata": {
        "id": "z-P9Q6SQe3oT"
      },
      "execution_count": null,
      "outputs": []
    },
    {
      "cell_type": "markdown",
      "source": [
        "### Exercice 6: Gestion des Sous-graphiques\n",
        "\n",
        "Objectif : Pratique avancée avec les sous-graphiques pour comparer plusieurs variables simultanément. Vous pouvez choisir les variables que vous voulez et les graphiques qui vous semblent intéressants à afficher. La seule contrainte est d'en afficher au moins trois.\n",
        "\n",
        "Ressources interressante : https://seaborn.pydata.org/examples/index.html"
      ],
      "metadata": {
        "id": "CysCjCPLfFiF"
      }
    },
    {
      "cell_type": "code",
      "source": [
        "# your code ..."
      ],
      "metadata": {
        "id": "UUlW6te0fFiI"
      },
      "execution_count": null,
      "outputs": []
    }
  ]
}