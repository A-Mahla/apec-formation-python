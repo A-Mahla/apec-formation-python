{
  "nbformat": 4,
  "nbformat_minor": 0,
  "metadata": {
    "colab": {
      "provenance": [],
      "authorship_tag": "ABX9TyNQvOaoBESlQpgTh6xEA9xE",
      "include_colab_link": true
    },
    "kernelspec": {
      "name": "python3",
      "display_name": "Python 3"
    },
    "language_info": {
      "name": "python"
    }
  },
  "cells": [
    {
      "cell_type": "markdown",
      "metadata": {
        "id": "view-in-github",
        "colab_type": "text"
      },
      "source": [
        "<a href=\"https://colab.research.google.com/github/A-Mahla/serda-formation-python/blob/main/exercices/google_colab/Projet_final.ipynb\" target=\"_parent\"><img src=\"https://colab.research.google.com/assets/colab-badge.svg\" alt=\"Open In Colab\"/></a>"
      ]
    },
    {
      "cell_type": "markdown",
      "source": [
        "# Projet 1 : Analyse des Données Météorologiques"
      ],
      "metadata": {
        "id": "_KoDvJvJSS81"
      }
    },
    {
      "cell_type": "markdown",
      "source": [
        "## Objectif :\n",
        "\n",
        "Votre mission est d'explorer un ensemble de données météorologiques pour identifier les tendances climatiques, détecter des anomalies, et prédire des conditions futures. Ce projet vous aidera à renforcer vos compétences en programmation Python, manipulation de données avec Pandas, visualisation de données avec Matplotlib et Seaborn, et à utiliser des analyses statistiques de base."
      ],
      "metadata": {
        "id": "dGqJz4CgSk8V"
      }
    },
    {
      "cell_type": "markdown",
      "source": [
        "## Dataset :"
      ],
      "metadata": {
        "id": "QFR6YB9US4V0"
      }
    },
    {
      "cell_type": "markdown",
      "source": [
        "Vous utiliserez le dataset disponible sur Kaggle : [Weather Prediction Dataset](https://www.kaggle.com/datasets/ananthr1/weather-prediction?resource=download). Le code pour le télécharger est fourni."
      ],
      "metadata": {
        "id": "xuRYkUaWTDm_"
      }
    },
    {
      "cell_type": "markdown",
      "source": [
        "## Instructions"
      ],
      "metadata": {
        "id": "SiVvUAJUUF73"
      }
    },
    {
      "cell_type": "markdown",
      "source": [
        "\n",
        "- Chargez le dataset des données météorologiques (température, précipitations, humidité) depuis un fichier CSV.\n",
        "- Nettoyez et préparez les données en utilisant Pandas, notamment en gérant les valeurs manquantes si nécessaire.\n",
        "- Créez des visualisations temporelles des données météorologiques (par exemple, température au fil du temps) en utilisant des graphiques de lignes et de barres.\n",
        "- Utilisez des scatter plots pour montrer les distributions et les corrélations entre différentes variables météorologiques.\n",
        "- Calculez des statistiques descriptives pour comprendre les conditions météorologiques.\n",
        "- Appliquez des méthodes statistiques pour tester des hypothèses, comme des tests t et des analyses de variance (ANOVA). (Optionnel)\n",
        "- Réaliser une régression linéaire pour prédire les precipitations. (Optionnel)\n",
        "- Intégrez l'API d'OpenAI pour générer automatiquement des résumés des tendances météorologiques découvertes dans vos analyses."
      ],
      "metadata": {
        "id": "RNAmnZONTgwh"
      }
    },
    {
      "cell_type": "code",
      "source": [
        "import pandas as pd\n",
        "\n",
        "url = 'https://raw.githubusercontent.com/A-Mahla/serda-formation-python/main/datasets/seattle-weather.csv'\n",
        "df = pd.read_csv(url)\n",
        "print(df.head())\n",
        "\n",
        "# Your code\n",
        "\n",
        "\n",
        "\n"
      ],
      "metadata": {
        "id": "0tjbNZKwU4UK"
      },
      "execution_count": null,
      "outputs": []
    }
  ]
}