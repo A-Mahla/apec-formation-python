{
  "nbformat": 4,
  "nbformat_minor": 0,
  "metadata": {
    "colab": {
      "provenance": [],
      "collapsed_sections": [
        "RDwqYSfYs7-S",
        "IPYM-zFaw8nh",
        "FEBySHisG2Vv",
        "9JiwhiDd8uO5",
        "EKKwuWbb9bdX",
        "P0RThrUz9Gh_",
        "mHK6MXWt9wuy",
        "cc-UGub-_VDe",
        "TfY55ZY0_ja9",
        "wo6wQOhAUst0",
        "vKWqUJl_WSSo",
        "hUxeU-G__yza",
        "sChKie45eTuU"
      ],
      "authorship_tag": "ABX9TyMY4sWoEVZVK+ZVtqxlrs1s",
      "include_colab_link": true
    },
    "kernelspec": {
      "name": "python3",
      "display_name": "Python 3"
    },
    "language_info": {
      "name": "python"
    }
  },
  "cells": [
    {
      "cell_type": "markdown",
      "metadata": {
        "id": "view-in-github",
        "colab_type": "text"
      },
      "source": [
        "<a href=\"https://colab.research.google.com/github/A-Mahla/serda-formation-python/blob/main/exercices/google_colab/Introduction_%C3%A0_Pandas.ipynb\" target=\"_parent\"><img src=\"https://colab.research.google.com/assets/colab-badge.svg\" alt=\"Open In Colab\"/></a>"
      ]
    },
    {
      "cell_type": "markdown",
      "source": [
        "# 1. Introduction à Pandas"
      ],
      "metadata": {
        "id": "RDwqYSfYs7-S"
      }
    },
    {
      "cell_type": "markdown",
      "source": [
        "## 1.1 Qu'est-ce que Pandas ?\n",
        "\n",
        "[Pandas](https://pandas.pydata.org/docs/getting_started/intro_tutorials/index.html) est une bibliothèque open-source pour Python, principalement utilisée pour l'analyse et la manipulation de données. Elle permet de travailler avec des structures de données faciles à utiliser et efficaces.\n",
        "## 1.2 Pourquoi utiliser Pandas ?\n",
        "\n",
        "- Facilite la manipulation de données complexes.\n",
        "- Permet de lire et écrire différents formats de fichiers (CSV, Excel, SQL, etc.).\n",
        "- Offre des outils puissants pour le nettoyage des données, l'analyse et la visualisation."
      ],
      "metadata": {
        "id": "kq8tw29a-Flu"
      }
    },
    {
      "cell_type": "markdown",
      "source": [
        "# 2. Création et manipulation des DataFrames"
      ],
      "metadata": {
        "id": "fBoP_d5stq2Q"
      }
    },
    {
      "cell_type": "markdown",
      "source": [
        "## 2.1 Création d'un DataFrame\n",
        "\n",
        "Un DataFrame est une structure de données bidimensionnelle avec des étiquettes pour les lignes et les colonnes."
      ],
      "metadata": {
        "id": "36IE1HTDvDHQ"
      }
    },
    {
      "cell_type": "code",
      "source": [
        "import pandas as pd\n",
        "\n",
        "# Création d'un DataFrame à partir d'un dictionnaire\n",
        "data = {\n",
        "    'Nom': ['Alice', 'Bob', 'Charlie'],\n",
        "    'Age': [25, 30, 35],\n",
        "    'Ville': ['Paris', 'Lyon', 'Marseille']\n",
        "}\n",
        "\n",
        "df = pd.DataFrame(data)\n",
        "print('df :', df, '\\n')\n",
        "print('df.head(): ', df.head(), '\\n')\n",
        "print('df.info(): ', df.info(), '\\n')\n",
        "print('Toutes les colonnes du DataFrame: ', df.columns.values)"
      ],
      "metadata": {
        "id": "p2s-68rZvwtw"
      },
      "execution_count": null,
      "outputs": []
    },
    {
      "cell_type": "markdown",
      "source": [
        "> *Aller plus loin dans la compréhension : [What kind of data does pandas handle?](https://pandas.pydata.org/docs/getting_started/intro_tutorials/01_table_oriented.html)*"
      ],
      "metadata": {
        "id": "NWkUI1Qxv9EU"
      }
    },
    {
      "cell_type": "markdown",
      "source": [
        "## 2.2 Sélectionner des données dans un DataFrame\n",
        "\n",
        "- Sélectionner une colonne :"
      ],
      "metadata": {
        "id": "IPYM-zFaw8nh"
      }
    },
    {
      "cell_type": "code",
      "source": [
        "# Sélectionner la colonne 'Nom'\n",
        "print(df['Nom'])"
      ],
      "metadata": {
        "id": "02QqglO2xINa"
      },
      "execution_count": null,
      "outputs": []
    },
    {
      "cell_type": "markdown",
      "source": [
        "- Sélectionner plusieurs colonnes :"
      ],
      "metadata": {
        "id": "2tx-M2VFxLky"
      }
    },
    {
      "cell_type": "code",
      "source": [
        "# Sélectionner les colonnes 'Nom' et 'Âge'\n",
        "print(df[['Nom', 'Age']])"
      ],
      "metadata": {
        "id": "fjNt_Dp6xY2y"
      },
      "execution_count": null,
      "outputs": []
    },
    {
      "cell_type": "markdown",
      "source": [
        "- Sélectionner des lignes par index :"
      ],
      "metadata": {
        "id": "feHK13STxY2x"
      }
    },
    {
      "cell_type": "code",
      "source": [
        "# Sélectionner la première ligne\n",
        "print(df.iloc[0])"
      ],
      "metadata": {
        "id": "oqKmGZgFxPLe"
      },
      "execution_count": null,
      "outputs": []
    },
    {
      "cell_type": "markdown",
      "source": [
        "- Sélectionner des lignes par condition :"
      ],
      "metadata": {
        "id": "c0JBiewtx__A"
      }
    },
    {
      "cell_type": "code",
      "source": [
        "# Sélectionner les lignes où l'âge est supérieur à 30\n",
        "print(df[df['Age'] > 30])\n",
        "print()\n",
        "\n",
        "# Sélectionner les colonnes ' les lignes où l'âge est supérieur à 30\n",
        "print(df.loc[df['Age'] > 30, ['Nom', 'Ville']])\n",
        "\n",
        "# Filtrer pour obtenir les noms des personnes de plus de 30 ans et vivant à Marseille\n",
        "print(df.loc[(df['Age'] > 30) & (df['Ville'] == 'Marseille'), ['Nom']])\n",
        "\n",
        "# Filtrer pour obtenir les noms et villes des personnes de plus de 30 ans ou s'appelant Alice\n",
        "print(df.loc[(df['Age'] > 30) | (df['Nom'] == 'Alice'), ['Nom', 'Ville']])\n",
        "\n",
        "# Note: Les conditions doivent être entre parenthèses."
      ],
      "metadata": {
        "id": "_r7USKdDx__E"
      },
      "execution_count": null,
      "outputs": []
    },
    {
      "cell_type": "markdown",
      "source": [
        "> Aller plus loin dans la compréhension :\n",
        "- https://moncoachdata.com/blog/filtrer-un-dataframe-pandas/\n",
        "- [How do I select a subset of a DataFrame?](https://pandas.pydata.org/docs/getting_started/intro_tutorials/03_subset_data.html)"
      ],
      "metadata": {
        "id": "jUfqryKPypgm"
      }
    },
    {
      "cell_type": "markdown",
      "source": [
        "## Exercices: DataFrame Filtering"
      ],
      "metadata": {
        "id": "FEBySHisG2Vv"
      }
    },
    {
      "cell_type": "code",
      "source": [
        "# Dataset pour les exercices (executer ce code pour loader le DataFrame)\n",
        "\n",
        "import pandas as pd\n",
        "\n",
        "# DataFrame de départ\n",
        "df = pd.DataFrame({\n",
        "    'name': ['Noah', 'Jon', 'Tom', 'Alba', 'Emilie', 'Coco', 'Anna'],\n",
        "    'cat': ['A', 'C', 'B', 'A', 'B', 'C', 'B'],\n",
        "    'val1': [0.58, 0.76, 0.96, 0.09, 0.27, 0.45, 0.17],\n",
        "    'val2': [2, 1, 3, 6, 4, 4, 2]\n",
        "})"
      ],
      "metadata": {
        "id": "-oSzRmIzHaOh"
      },
      "execution_count": null,
      "outputs": []
    },
    {
      "cell_type": "markdown",
      "source": [
        "### Exercice 1\n",
        "\n",
        " Sélectionnez et affichez toutes les lignes où `val1` est supérieure à `0.75` et `val2` est inférieure ou égale à `2`."
      ],
      "metadata": {
        "id": "iy2iO0fDHOXG"
      }
    },
    {
      "cell_type": "code",
      "source": [
        "# Your code ...\n",
        "\n"
      ],
      "metadata": {
        "id": "9T8bux80HnL6"
      },
      "execution_count": null,
      "outputs": []
    },
    {
      "cell_type": "markdown",
      "source": [
        "### Exercice 2\n",
        "\n",
        "Trouvez les lignes où le nom est soit `Jon`, soit `Noah` et où `val1` est inférieure à `0.5` ou `val2` est égale à `3`."
      ],
      "metadata": {
        "id": "q7aIdG26Hpcp"
      }
    },
    {
      "cell_type": "code",
      "source": [
        "# Your code ...\n",
        "\n"
      ],
      "metadata": {
        "id": "CiWR4-T7ICL4"
      },
      "execution_count": null,
      "outputs": []
    },
    {
      "cell_type": "markdown",
      "source": [
        "### Exercice 3\n",
        "\n",
        "Sélectionnez les lignes où le nom est soit `Jon`, soit `Noah`, mais `val1` doit être supérieure à `0.5`.\n",
        "\n"
      ],
      "metadata": {
        "id": "b-IM1qFoH8Mc"
      }
    },
    {
      "cell_type": "code",
      "source": [
        "# Your code ...\n",
        "\n"
      ],
      "metadata": {
        "id": "c03y-S-oIC16"
      },
      "execution_count": null,
      "outputs": []
    },
    {
      "cell_type": "markdown",
      "source": [
        "### Exercice 4\n",
        "\n",
        "Sélectionnez toutes les lignes où le nom n'est ni `Jon` ni `Noah` et `val2` est supérieure à `2`. Utilisez l'opérateur tilde (~)."
      ],
      "metadata": {
        "id": "GY4geioQIMPy"
      }
    },
    {
      "cell_type": "code",
      "source": [
        "# Your code ...\n",
        "\n"
      ],
      "metadata": {
        "id": "JkW9jpdRIWly"
      },
      "execution_count": null,
      "outputs": []
    },
    {
      "cell_type": "markdown",
      "source": [
        "### Exercice 5\n",
        "\n",
        "Utilisez loc pour sélectionner les lignes où `val1` est supérieure à `0.3` et `val2` est égale à `4`."
      ],
      "metadata": {
        "id": "EhUhOdAhIXQq"
      }
    },
    {
      "cell_type": "code",
      "source": [
        "# Your code ...\n",
        "\n"
      ],
      "metadata": {
        "id": "lrFtEFCDId8r"
      },
      "execution_count": null,
      "outputs": []
    },
    {
      "cell_type": "markdown",
      "source": [
        "### Exercice 6\n",
        "\n",
        "Sélectionnez avec loc les lignes où `val2` est supérieure à `1` et `val1` est inférieure à `0.2`."
      ],
      "metadata": {
        "id": "ukA_54p-Ik2y"
      }
    },
    {
      "cell_type": "code",
      "source": [
        "# Your code ...\n",
        "\n"
      ],
      "metadata": {
        "id": "d0MCgK50IuQD"
      },
      "execution_count": null,
      "outputs": []
    },
    {
      "cell_type": "markdown",
      "source": [
        "# 3. Importation et exportation des données"
      ],
      "metadata": {
        "id": "9JiwhiDd8uO5"
      }
    },
    {
      "cell_type": "markdown",
      "source": [
        "## 3.1 Importer des données depuis un fichier CSV"
      ],
      "metadata": {
        "id": "EKKwuWbb9bdX"
      }
    },
    {
      "cell_type": "code",
      "source": [
        "# Lire un fichier CSV\n",
        "df = pd.read_csv('chemin/vers/fichier.csv')\n",
        "print(df.head())  # Afficher les premières lignes du DataFrame"
      ],
      "metadata": {
        "id": "7z90a8tY8_Hq"
      },
      "execution_count": null,
      "outputs": []
    },
    {
      "cell_type": "code",
      "source": [
        "# Lire un fichier SPSS\n",
        "df = pd.read_spss('/path/to/your/datafile.sav')\n",
        "\n",
        "# Lire un fichier CSV\n",
        "df = pd.read_csv('/path/to/your/datafile.csv')\n",
        "\n",
        "# Lire un fichier Excel\n",
        "df = pd.read_excel('/path/to/your/datafile.xlsx')"
      ],
      "metadata": {
        "id": "q_kPkbNnOlrG"
      },
      "execution_count": null,
      "outputs": []
    },
    {
      "cell_type": "markdown",
      "source": [
        "## 3.2 Exporter des données vers un fichier CSV"
      ],
      "metadata": {
        "id": "P0RThrUz9Gh_"
      }
    },
    {
      "cell_type": "code",
      "source": [
        "# Écrire un DataFrame dans un fichier CSV\n",
        "df.to_csv('chemin/vers/fichier.csv', index=False)"
      ],
      "metadata": {
        "id": "ACLIEQyS9nt5"
      },
      "execution_count": null,
      "outputs": []
    },
    {
      "cell_type": "code",
      "source": [
        "# Écrire un DataFrame dans un fichier SPSS\n",
        "df = pd.to_spss('/path/to/your/datafile.sav')\n",
        "\n",
        "# Écrire un DataFrame dans un fichier CSV\n",
        "df = pd.to_csv('/path/to/your/datafile.csv')\n",
        "\n",
        "# Écrire un DataFrame dans un fichier Excel\n",
        "df = pd.to_excel('/path/to/your/datafile.xlsx')"
      ],
      "metadata": {
        "id": "QaLMXYXlY-O2"
      },
      "execution_count": null,
      "outputs": []
    },
    {
      "cell_type": "markdown",
      "source": [
        "> *Aller plus loin dans la compréhension : [How do I read and write tabular data?](https://pandas.pydata.org/docs/getting_started/intro_tutorials/02_read_write.html)*"
      ],
      "metadata": {
        "id": "yppcR8z--PTx"
      }
    },
    {
      "cell_type": "markdown",
      "source": [
        "# 4. Opérations de base sur les DataFrames"
      ],
      "metadata": {
        "id": "mHK6MXWt9wuy"
      }
    },
    {
      "cell_type": "markdown",
      "source": [
        "## 4.1 Ajouter une colonne"
      ],
      "metadata": {
        "id": "cc-UGub-_VDe"
      }
    },
    {
      "cell_type": "code",
      "source": [
        "# Ajouter une colonne 'Salaire'\n",
        "df['Salaire'] = [50000, 60000, 70000]\n",
        "print(df)"
      ],
      "metadata": {
        "id": "MQTY5smR_aza"
      },
      "execution_count": null,
      "outputs": []
    },
    {
      "cell_type": "markdown",
      "source": [
        "## 4.2 Supprimer une colonne"
      ],
      "metadata": {
        "id": "TfY55ZY0_ja9"
      }
    },
    {
      "cell_type": "code",
      "source": [
        "# Supprimer la colonne 'Ville'\n",
        "df = df.drop(columns=['Ville'])\n",
        "print(df)"
      ],
      "metadata": {
        "id": "kptx_22u_nwG"
      },
      "execution_count": null,
      "outputs": []
    },
    {
      "cell_type": "markdown",
      "source": [
        "## 4.3 Création de colonnes à partir d'autres"
      ],
      "metadata": {
        "id": "wo6wQOhAUst0"
      }
    },
    {
      "cell_type": "code",
      "source": [
        "df = pd.DataFrame({\n",
        "    'A': [1, 2, 3],\n",
        "    'B': [4, 5, 6]\n",
        "})\n",
        "\n",
        "# Création d'une nouvelle colonne C en ajoutant A et B\n",
        "df['C'] = df['A'] + df['B']\n",
        "print(df)"
      ],
      "metadata": {
        "id": "hbd6_RiMVxgU"
      },
      "execution_count": null,
      "outputs": []
    },
    {
      "cell_type": "markdown",
      "source": [
        "## 4.4 Application de Fonctions sur tous les élément d'une colonnes\n",
        "\n",
        "Pour appliquer des fonctions à des valeurs de colonnes, Pandas offre plusieurs méthodes, dont `.apply()`, qui permet d'appliquer une fonction à chaque élément d'une colonne :"
      ],
      "metadata": {
        "id": "vKWqUJl_WSSo"
      }
    },
    {
      "cell_type": "code",
      "source": [
        "# Application d'une fonction pour doubler chaque valeur de la colonne A\n",
        "df['Doubled A'] = df['A'].apply(lambda x: x * 2)\n",
        "print(df)"
      ],
      "metadata": {
        "id": "D9j_EJatWfBM"
      },
      "execution_count": null,
      "outputs": []
    },
    {
      "cell_type": "markdown",
      "source": [
        "> `lambda x: x * 2` est une manière de créer une fonction sans la nommer. C'est ce qu'on appelle une fonction lambda ou une fonction anonyme.  La syntaxe d'une fonction lambda est la suivante :\n",
        ">\n",
        "> - Mot-clé `lambda` : Cela indique le début de la fonction anonyme.\n",
        "> - Paramètres : Juste après le mot-clé lambda, vous pouvez définir un ou plusieurs paramètres séparés par des virgules. Dans l'exemple `lambda x`, `x` est le paramètre.\n",
        "> - Colon : Un deux-points `:` suit les paramètres.\n",
        "> - Expression : Après le deux-points, vous écrivez une expression qui retourne une valeur. Cette expression est le corps de la fonction `lambda`. Dans l'exemple, `x * 2` est l'expression qui sera évaluée et renvoyée chaque fois que la fonction lambda est appelée.\n",
        ">\n",
        "> Vous pouvez tout à fait utiliser une fonction que vous avez créée."
      ],
      "metadata": {
        "id": "X7jXdJz2XCsy"
      }
    },
    {
      "cell_type": "markdown",
      "source": [
        "## 4.5 Grouper les données"
      ],
      "metadata": {
        "id": "82e4w-ER_slL"
      }
    },
    {
      "cell_type": "code",
      "source": [
        "# Grouper par 'Âge' et calculer la moyenne du 'Salaire'\n",
        "grouped_df = df.groupby('Âge').mean()\n",
        "print(grouped_df)"
      ],
      "metadata": {
        "id": "sGXg4BZu_v08"
      },
      "execution_count": null,
      "outputs": []
    },
    {
      "cell_type": "markdown",
      "source": [
        "## 4.6 Fusionner deux DataFrames"
      ],
      "metadata": {
        "id": "hUxeU-G__yza"
      }
    },
    {
      "cell_type": "code",
      "source": [
        "# Créer un autre DataFrame\n",
        "data2 = {\n",
        "    'Nom': ['Alice', 'Bob', 'David'],\n",
        "    'Département': ['HR', 'Finance', 'IT']\n",
        "}\n",
        "\n",
        "df2 = pd.DataFrame(data2)\n",
        "\n",
        "# Fusionner les deux DataFrames sur la colonne 'Nom'\n",
        "merged_df = pd.merge(df, df2, on='Nom', how='inner')\n",
        "print(merged_df)"
      ],
      "metadata": {
        "id": "jFSms6yS_2AQ"
      },
      "execution_count": null,
      "outputs": []
    },
    {
      "cell_type": "markdown",
      "source": [
        "## Exercices: Operations de base"
      ],
      "metadata": {
        "id": "sChKie45eTuU"
      }
    },
    {
      "cell_type": "markdown",
      "source": [
        "### Exercice 01\n",
        "À partir d'un DataFrame contenant les colonnes Temperature (C) et Humidity, créez une nouvelle colonne Comfort Index qui est calculée comme le produit de la température par l'humidité."
      ],
      "metadata": {
        "id": "edmI3zC7efdk"
      }
    },
    {
      "cell_type": "code",
      "source": [
        "# Données pour l'Exercice 1\n",
        "df1 = pd.DataFrame({\n",
        "    'Temperature (C)': [22, 25, 28],\n",
        "    'Humidity': [0.5, 0.55, 0.6]\n",
        "})\n",
        "\n",
        "# Your Code ..."
      ],
      "metadata": {
        "id": "JIY07fAYe2S-"
      },
      "execution_count": null,
      "outputs": []
    },
    {
      "cell_type": "markdown",
      "source": [
        "### Exercice 02\n",
        "\n",
        "À partir d'un DataFrame avec une colonne 'Points', ajoutez une colonne 'Qualifié' au DataFrame qui indique 'Oui' si le joueur a plus de 85 points et 'Non' autrement."
      ],
      "metadata": {
        "id": "6viC_B8ao2nt"
      }
    },
    {
      "cell_type": "code",
      "source": [
        "data = {\n",
        "    'Nom': ['Arthur', 'Léa', 'Simon'],\n",
        "    'Sport': ['Football', 'Tennis', 'Basketball'],\n",
        "    'Points': [88, 92, 75]\n",
        "}\n",
        "df = pd.DataFrame(data)\n",
        "\n",
        "# Your code ..."
      ],
      "metadata": {
        "id": "p7_OhF0kpE60"
      },
      "execution_count": null,
      "outputs": []
    },
    {
      "cell_type": "markdown",
      "source": [
        "### Exercice 03\n",
        "\n",
        " À partir d'un DataFrame avec une colonne Ages, appliquez une fonction qui catégorise l'âge en child (moins de 18 ans), adult (18 à 65 ans), et senior (plus de 65 ans). Stockez les résultats dans une nouvelle colonne Age Group."
      ],
      "metadata": {
        "id": "POUA1Ee5fC8B"
      }
    },
    {
      "cell_type": "code",
      "source": [
        "df2 = pd.DataFrame({\n",
        "    'Ages': [10, 22, 70]\n",
        "})\n",
        "\n",
        "# Your Code ..."
      ],
      "metadata": {
        "id": "N0ACv1AUfJaa"
      },
      "execution_count": null,
      "outputs": []
    },
    {
      "cell_type": "markdown",
      "source": [
        "### Exercice 04\n",
        "\n",
        "À partir d'un DataFrame fourni:\n",
        "\n",
        "1. regrouper les données par produit et calculez la somme totale des ventes pour chaque produit.\n",
        "2. regroupez les données par ville et calculez la moyenne des ventes pour chaque ville."
      ],
      "metadata": {
        "id": "IcHFtRE2quDs"
      }
    },
    {
      "cell_type": "code",
      "source": [
        "\n",
        "# Création du DataFrame\n",
        "data = {\n",
        "    'Produit': [\n",
        "        'Ordinateur', 'Téléphone', 'Ordinateur', 'Téléphone', 'Tablette',\n",
        "        'Ordinateur', 'Tablette', 'Téléphone', 'Ordinateur', 'Téléphone',\n",
        "        'Tablette', 'Ordinateur', 'Tablette', 'Téléphone', 'Ordinateur',\n",
        "        'Téléphone', 'Tablette', 'Ordinateur', 'Tablette', 'Téléphone'\n",
        "    ],\n",
        "    'Ville': [\n",
        "        'Paris', 'Paris', 'Lyon', 'Lyon', 'Paris', 'Marseille', 'Lyon', 'Marseille',\n",
        "        'Paris', 'Paris', 'Lyon', 'Marseille', 'Lyon', 'Marseille', 'Paris',\n",
        "        'Paris', 'Marseille', 'Lyon', 'Marseille', 'Paris'\n",
        "    ],\n",
        "    'Vente': [\n",
        "        900, 800, 850, 780, 450, 950, 500, 900, 870, 760, 430, 970, 510, 890,\n",
        "        880, 840, 450, 860, 520, 800\n",
        "    ]\n",
        "}\n",
        "df = pd.DataFrame(data)\n",
        "\n",
        "\n",
        "# Your code ...\n",
        "\n",
        "\n"
      ],
      "metadata": {
        "id": "5NsY9vwkra0R"
      },
      "execution_count": null,
      "outputs": []
    }
  ]
}