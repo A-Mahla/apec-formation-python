{
  "nbformat": 4,
  "nbformat_minor": 0,
  "metadata": {
    "colab": {
      "provenance": [],
      "collapsed_sections": [
        "w1j2s4j3E0TU",
        "OHqMVcnzG0we",
        "c2wTkkSGH9Y6",
        "6rk1GfKjIkW5",
        "HfQj-SKOJPPP",
        "a8WxqdLULdOw",
        "DqGE5xQ7L_Y9",
        "hL6pY6i2PPkl",
        "shQQzp82PcSJ"
      ],
      "authorship_tag": "ABX9TyMvTZaAFvwgXXWZ7f9eaekF",
      "include_colab_link": true
    },
    "kernelspec": {
      "name": "python3",
      "display_name": "Python 3"
    },
    "language_info": {
      "name": "python"
    }
  },
  "cells": [
    {
      "cell_type": "markdown",
      "metadata": {
        "id": "view-in-github",
        "colab_type": "text"
      },
      "source": [
        "<a href=\"https://colab.research.google.com/github/A-Mahla/serda-formation-python/blob/main/exercices/google_colab/Analyses_Statistiques_de_SPSS_vers_Python.ipynb\" target=\"_parent\"><img src=\"https://colab.research.google.com/assets/colab-badge.svg\" alt=\"Open In Colab\"/></a>"
      ]
    },
    {
      "cell_type": "markdown",
      "source": [
        "# Analyses Statistiques de SPSS vers Python"
      ],
      "metadata": {
        "id": "GPyUbkUREuBl"
      }
    },
    {
      "cell_type": "markdown",
      "source": [
        "Lorsqu'on transfère des analyses de SPSS vers Python, on utilise souvent des bibliothèques comme pandas, statsmodels, scipy, et seaborn/matplotlib pour effectuer des analyses similaires. Voici quelques cas d'usage courants en SPSS et leurs équivalents en Python :"
      ],
      "metadata": {
        "id": "2103RfIqErfl"
      }
    },
    {
      "cell_type": "markdown",
      "source": [
        "## 1. Importation des données"
      ],
      "metadata": {
        "id": "w1j2s4j3E0TU"
      }
    },
    {
      "cell_type": "markdown",
      "source": [
        "\n",
        "Syntax Editor :\n",
        "```\n",
        "GET FILE='/path/to/your/datafile.sav'.\n",
        "```"
      ],
      "metadata": {
        "id": "Oo9G_03mE7Em"
      }
    },
    {
      "cell_type": "markdown",
      "source": [
        "En python, on utilise `pandas` pour lire des fichiers SPSS."
      ],
      "metadata": {
        "id": "LgTZnTq9Guim"
      }
    },
    {
      "cell_type": "code",
      "source": [
        "import pandas as pd\n",
        "\n",
        "df = pd.read_spss('/path/to/your/datafile.sav')"
      ],
      "metadata": {
        "id": "w-5fOlTzE6Fw"
      },
      "execution_count": null,
      "outputs": []
    },
    {
      "cell_type": "code",
      "source": [
        "# Lire un fichier SPSS\n",
        "df = pd.read_spss('/path/to/your/datafile.sav')\n",
        "\n",
        "# Lire un fichier CSV\n",
        "df = pd.read_csv('/path/to/your/datafile.csv')\n",
        "\n",
        "# Lire un fichier Excel\n",
        "df = pd.read_excel('/path/to/your/datafile.xlsx')"
      ],
      "metadata": {
        "id": "q_kPkbNnOlrG"
      },
      "execution_count": null,
      "outputs": []
    },
    {
      "cell_type": "markdown",
      "source": [
        "## 2. Nettoyage des données"
      ],
      "metadata": {
        "id": "OHqMVcnzG0we"
      }
    },
    {
      "cell_type": "markdown",
      "source": [
        "\n",
        "Syntax Editor : Manipulation de valeurs manquantes\n",
        "```\n",
        "MISSING VALUES var1 TO var5 (99).\n",
        "```"
      ],
      "metadata": {
        "id": "aQuxinXMG_W7"
      }
    },
    {
      "cell_type": "markdown",
      "source": [
        "En python, On utilise `pandas` pour gérer les valeurs manquantes."
      ],
      "metadata": {
        "id": "1oFk3X8QG_W8"
      }
    },
    {
      "cell_type": "code",
      "source": [
        "df = df.replace(99, pd.NA)"
      ],
      "metadata": {
        "id": "pFQu4CbGHsZk"
      },
      "execution_count": null,
      "outputs": []
    },
    {
      "cell_type": "code",
      "source": [
        "# Remplacer une valeur spécifique par NaN\n",
        "df.replace(99, pd.NA, inplace=True)\n",
        "\n",
        "# Supprimer les lignes avec des valeurs manquantes\n",
        "df.dropna(inplace=True)\n",
        "\n",
        "# Remplir les valeurs manquantes avec la moyenne de la colonne\n",
        "df.fillna(df.mean(), inplace=True)"
      ],
      "metadata": {
        "id": "N1eh4NjfOvjo"
      },
      "execution_count": null,
      "outputs": []
    },
    {
      "cell_type": "markdown",
      "source": [
        "> L'argument inplace=True permet de modifier directement le DataFrame. Sans celui-ci, la fonction retournerait un autre DataFrame (avec les modifications) mais laisserait le premier intact."
      ],
      "metadata": {
        "id": "71Y6FgAet_6D"
      }
    },
    {
      "cell_type": "markdown",
      "source": [
        "## 3. Statistiques descriptives"
      ],
      "metadata": {
        "id": "c2wTkkSGH9Y6"
      }
    },
    {
      "cell_type": "markdown",
      "source": [
        "\n",
        "Syntax Editor : Calcul des statistiques descriptives.\n",
        "```\n",
        "DESCRIPTIVES VARIABLES=var1 TO var5.\n",
        "```"
      ],
      "metadata": {
        "id": "Qf8fegAXH9Y7"
      }
    },
    {
      "cell_type": "markdown",
      "source": [
        "En python, On utilise `pandas` pour les statistiques descriptives."
      ],
      "metadata": {
        "id": "zubLBjszH9Y7"
      }
    },
    {
      "cell_type": "code",
      "source": [
        "df.describe()"
      ],
      "metadata": {
        "id": "AatcDD8wH9Y8"
      },
      "execution_count": null,
      "outputs": []
    },
    {
      "cell_type": "code",
      "source": [
        "# Statistiques descriptives de base\n",
        "df.describe()\n",
        "\n",
        "# Statistiques pour une colonne spécifique\n",
        "df['colonne'].describe()\n",
        "\n",
        "# Fréquences pour les variables catégorielles\n",
        "df['colonne_catégorielle'].value_counts()"
      ],
      "metadata": {
        "id": "3eGMW_7cOywD"
      },
      "execution_count": null,
      "outputs": []
    },
    {
      "cell_type": "markdown",
      "source": [
        "## 4. Tests de corrélation"
      ],
      "metadata": {
        "id": "6rk1GfKjIkW5"
      }
    },
    {
      "cell_type": "markdown",
      "source": [
        "\n",
        "Syntax Editor : Calcul des corrélations entre variables.\n",
        "```\n",
        "CORRELATIONS /VARIABLES=var1 var2 var3.\n",
        "```"
      ],
      "metadata": {
        "id": "pFGDk8x-IkW6"
      }
    },
    {
      "cell_type": "markdown",
      "source": [
        "En python, On utilise `pandas` ou `scipy` pour les corrélations."
      ],
      "metadata": {
        "id": "Zbr8z7mgIkW6"
      }
    },
    {
      "cell_type": "code",
      "source": [
        "correlation_matrix = df[['var1', 'var2', 'var3']].corr()\n",
        "\n",
        "# ou pour un test spécifique\n",
        "from scipy.stats import pearsonr\n",
        "\n",
        "corr, p_value = pearsonr(df['var1'], df['var2'])\n"
      ],
      "metadata": {
        "id": "lMMxkcU0IkW7"
      },
      "execution_count": null,
      "outputs": []
    },
    {
      "cell_type": "markdown",
      "source": [
        "## 5. Régressions linéaires/logistiques"
      ],
      "metadata": {
        "id": "HfQj-SKOJPPP"
      }
    },
    {
      "cell_type": "markdown",
      "source": [
        "\n",
        "Syntax Editor : Exécution d'une régression linéaire.\n",
        "```\n",
        "REGRESSION /DEPENDENT var1 /METHOD=ENTER var2 var3.\n",
        "```"
      ],
      "metadata": {
        "id": "uWZAkgHqJPPQ"
      }
    },
    {
      "cell_type": "markdown",
      "source": [
        "En python, On utilise `sklearn` pour les régression linéaires/logistiques."
      ],
      "metadata": {
        "id": "yQsWFDc1JPPR"
      }
    },
    {
      "cell_type": "code",
      "source": [
        "import numpy as np\n",
        "import pandas as pd\n",
        "from sklearn.linear_model import LinearRegression, LogisticRegression\n",
        "\n",
        "# Example DataFrame setup\n",
        "df = pd.DataFrame({\n",
        "    'var1': np.random.normal(0, 1, 100),\n",
        "    'var2': np.random.normal(0, 1, 100),\n",
        "    'var3': np.random.normal(0, 1, 100),\n",
        "    'var4': np.random.randint(0, 2, 100)\n",
        "})\n",
        "\n",
        "# Selecting features and target variable\n",
        "X = df[['var1', 'var2']]\n",
        "y = df['var3']\n",
        "\n",
        "# Creating and fitting the linear regression model\n",
        "model = LinearRegression()\n",
        "model.fit(X, y)\n",
        "\n",
        "# Printing model coefficients\n",
        "print(\"Coefficients:\", model.coef_)\n",
        "print(\"Intercept:\", model.intercept_)\n",
        "print(\"linear prediction : \", model.predict(X))\n",
        "print()\n",
        "\n",
        "# Creating and fitting the logistic regression model\n",
        "y = df['var4']\n",
        "model = LogisticRegression()\n",
        "model.fit(X, y)\n",
        "\n",
        "# Printing model coefficients\n",
        "print(\"Coefficients:\", model.coef_)\n",
        "print(\"Intercept:\", model.intercept_)\n",
        "\n",
        "print(\"logistic prediction : \", model.predict(X))"
      ],
      "metadata": {
        "id": "2ZmUbLYkJPPR"
      },
      "execution_count": null,
      "outputs": []
    },
    {
      "cell_type": "markdown",
      "source": [
        "## 6. Tests t de Student"
      ],
      "metadata": {
        "id": "a8WxqdLULdOw"
      }
    },
    {
      "cell_type": "markdown",
      "source": [
        "\n",
        "Syntax Editor : Exécution d'un test t pour comparer deux moyennes.\n",
        "```\n",
        "T-TEST GROUPS=groupvar(1 2) /VARIABLES=var1.\n",
        "```"
      ],
      "metadata": {
        "id": "KhqjFRBlLdOx"
      }
    },
    {
      "cell_type": "markdown",
      "source": [
        "En python, on utilise `scipy` pour les tests t."
      ],
      "metadata": {
        "id": "xZLiF5ZkLdOx"
      }
    },
    {
      "cell_type": "code",
      "source": [
        "from scipy.stats import ttest_ind\n",
        "\n",
        "group1 = df[df['groupvar'] == 1]['var1']\n",
        "group2 = df[df['groupvar'] == 2]['var1']\n",
        "\n",
        "t_stat, p_value = ttest_ind(group1, group2)"
      ],
      "metadata": {
        "id": "3uUM-966LdOx"
      },
      "execution_count": null,
      "outputs": []
    },
    {
      "cell_type": "markdown",
      "source": [
        "## 7. ANOVA"
      ],
      "metadata": {
        "id": "DqGE5xQ7L_Y9"
      }
    },
    {
      "cell_type": "markdown",
      "source": [
        "\n",
        "Syntax Editor : Analyse de la variance.\n",
        "```\n",
        "ONEWAY var1 BY groupvar.\n",
        "```"
      ],
      "metadata": {
        "id": "9xxzBeIeL_ZH"
      }
    },
    {
      "cell_type": "markdown",
      "source": [
        "En python, on utilise `statsmodels` pour l'ANOVA."
      ],
      "metadata": {
        "id": "yzed6WIGL_ZH"
      }
    },
    {
      "cell_type": "code",
      "source": [
        "from statsmodels.formula.api import ols\n",
        "from statsmodels.stats.anova import anova_lm\n",
        "\n",
        "df = pd.DataFrame({\n",
        "    'group': np.random.choice(['Group1', 'Group2', 'Group3'], size=100),\n",
        "    'value': np.concatenate([np.random.normal(0, 1, 33), np.random.normal(1, 1, 33), np.random.normal(2, 1, 34)])\n",
        "})\n",
        "\n",
        "model = ols('value ~ C(group)', data=df).fit()\n",
        "anova_results = anova_lm(model)\n",
        "print(anova_results)"
      ],
      "metadata": {
        "id": "PkOSCpa8NQg2"
      },
      "execution_count": null,
      "outputs": []
    },
    {
      "cell_type": "markdown",
      "source": [
        "## 8. Analyses de clusters"
      ],
      "metadata": {
        "id": "hL6pY6i2PPkl"
      }
    },
    {
      "cell_type": "code",
      "source": [
        "from sklearn.cluster import KMeans\n",
        "\n",
        "# Préparation des données\n",
        "X = df[['var1', 'var2', 'var3']]\n",
        "\n",
        "# Clustering avec K-Means\n",
        "kmeans = KMeans(n_clusters=3)\n",
        "kmeans.fit(X)\n",
        "\n",
        "# Ajouter les labels de clusters au DataFrame\n",
        "df['cluster'] = kmeans.labels_"
      ],
      "metadata": {
        "id": "zlYDQt0EPZ61"
      },
      "execution_count": null,
      "outputs": []
    },
    {
      "cell_type": "markdown",
      "source": [
        "## 9. Analyses factorielles"
      ],
      "metadata": {
        "id": "shQQzp82PcSJ"
      }
    },
    {
      "cell_type": "code",
      "source": [
        "from sklearn.decomposition import PCA\n",
        "\n",
        "# Préparation des données\n",
        "X = df[['var1', 'var2', 'var3']]\n",
        "\n",
        "# Analyse en Composantes Principales (ACP)\n",
        "pca = PCA(n_components=2)\n",
        "principal_components = pca.fit_transform(X)\n",
        "\n",
        "# Créer un DataFrame avec les composantes principales\n",
        "df_pca = pd.DataFrame(data=principal_components, columns=['PC1', 'PC2'])"
      ],
      "metadata": {
        "id": "pjA7AqxLPkSI"
      },
      "execution_count": null,
      "outputs": []
    },
    {
      "cell_type": "markdown",
      "source": [
        "# Exercice Pratique"
      ],
      "metadata": {
        "id": "4If1pYFhQeGZ"
      }
    },
    {
      "cell_type": "markdown",
      "source": [
        "**Objectif : Appliquer les compétences acquises dans un projet pratique.**"
      ],
      "metadata": {
        "id": "Fwh8tRrNQoU3"
      }
    },
    {
      "cell_type": "markdown",
      "source": [
        "*Description du projet : Analyse exploratoire, nettoyage des données, tests statistiques, régression linéaire et visualisation.*"
      ],
      "metadata": {
        "id": "3YTQ6Q2vQvQb"
      }
    },
    {
      "cell_type": "markdown",
      "source": [
        "\n",
        "Analyse des données du Titanic:\n",
        "\n",
        "- Importation des données :\n",
        "  - Charger les données du Titanic.\n",
        "- Nettoyage des données :\n",
        "  - Gérer les valeurs manquantes si nécessaire.\n",
        "  - Transformer les colonnes nécessaires.\n",
        "- Statistiques descriptives :\n",
        "  - Obtenir des statistiques de base sur les variables principales.\n",
        "- Tests statistiques :\n",
        "  - Réaliser des tests de corrélation entre certaines variables.\n",
        "  - Comparer les moyennes de certaines variables entre des groupes.\n",
        "- Régression linéaire :\n",
        "  - Ajuster un modèle de régression pour prédire la survie.\n",
        "- Visualisation des données :\n",
        "  - Créer des graphiques pour illustrer les résultats."
      ],
      "metadata": {
        "id": "SUp2OuPYRCiw"
      }
    },
    {
      "cell_type": "code",
      "source": [
        "# Charger les données du Titanic\n",
        "titanic_url = 'https://web.stanford.edu/class/archive/cs/cs109/cs109.1166/stuff/titanic.csv'\n",
        "df_titanic = pd.read_csv(titanic_url)\n",
        "\n",
        "# Afficher les premières lignes du DataFrame\n",
        "pd.set_option('display.max_columns', 8)\n",
        "print(df_titanic.head())\n",
        "\n",
        "############## Your Code ################\n",
        "\n",
        "\n",
        "\n",
        "\n",
        "\n",
        "#########################################"
      ],
      "metadata": {
        "id": "MGDV1qfvRjg8"
      },
      "execution_count": null,
      "outputs": []
    }
  ]
}